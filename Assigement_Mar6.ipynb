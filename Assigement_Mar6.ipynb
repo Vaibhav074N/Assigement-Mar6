{
  "nbformat": 4,
  "nbformat_minor": 0,
  "metadata": {
    "colab": {
      "provenance": [],
      "authorship_tag": "ABX9TyO1HusTZd2Sk8LCkoEd6caQ",
      "include_colab_link": true
    },
    "kernelspec": {
      "name": "python3",
      "display_name": "Python 3"
    },
    "language_info": {
      "name": "python"
    }
  },
  "cells": [
    {
      "cell_type": "markdown",
      "metadata": {
        "id": "view-in-github",
        "colab_type": "text"
      },
      "source": [
        "<a href=\"https://colab.research.google.com/github/Vaibhav074N/Assigement-Mar6/blob/main/Assigement_Mar6.ipynb\" target=\"_parent\"><img src=\"https://colab.research.google.com/assets/colab-badge.svg\" alt=\"Open In Colab\"/></a>"
      ]
    },
    {
      "cell_type": "markdown",
      "source": [
        "Q1.What is Statistics?"
      ],
      "metadata": {
        "id": "24qWL9M4ABQd"
      }
    },
    {
      "cell_type": "markdown",
      "source": [
        "Statistics is a branch of mathematics that involves the collection, analysis, interpretation, presentation, and organization of data\n",
        "\n",
        "Data:- \"facts or pieces of information\""
      ],
      "metadata": {
        "id": "4RkHo-hEADTz"
      }
    },
    {
      "cell_type": "code",
      "execution_count": null,
      "metadata": {
        "id": "Q_42Oq_3_7nf"
      },
      "outputs": [],
      "source": []
    },
    {
      "cell_type": "markdown",
      "source": [
        "Q2. Define the different types of statistics and give an example of when each type might be used."
      ],
      "metadata": {
        "id": "LKtQn_DcAptc"
      }
    },
    {
      "cell_type": "markdown",
      "source": [
        "There are two main types of statistics: descriptive statistics and inferential statistics.\n",
        "\n",
        "\n",
        "1.Descriptive Statistics: These statistics are used to describe or summarize data. They can be used to describe the central tendency, dispersion, and shape of a distribution. Examples of descriptive statistics include measures such as the mean, median, mode, range, standard deviation, and variance.\n",
        "\n",
        "\n",
        "For example, if a researcher wants to describe the average age of a sample of 100 people, they would use the mean as a descriptive statistic. Similarly, if a researcher wants to describe the variability in a set of test scores, they might use the standard deviation as a descriptive statistic.\n",
        "\n",
        "\n",
        "2.Inferential Statistics: These statistics are used to make inferences or draw conclusions about a larger population based on a sample of data. Inferential statistics involve using probability theory to make statements about the likelihood of certain events occurring. Examples of inferential statistics include hypothesis testing, confidence intervals, and regression analysis.\n",
        "\n",
        "\n",
        "\n",
        "For example, if a researcher wants to test whether a new drug is effective in reducing blood pressure, they might conduct a randomized controlled trial with a sample of 100 participants. By analyzing the data from the study using inferential statistics, the researcher can draw conclusions about whether the drug is effective for the larger population of people with high blood pressure.\n",
        "\n",
        "\n",
        "\n",
        "\n"
      ],
      "metadata": {
        "id": "nWZr4kseArbi"
      }
    },
    {
      "cell_type": "code",
      "source": [],
      "metadata": {
        "id": "idlU4xAiAqg7"
      },
      "execution_count": null,
      "outputs": []
    },
    {
      "cell_type": "markdown",
      "source": [
        "Q3. What are the different types of data and how do they differ from each other? Provide an example of\n",
        "each type of data."
      ],
      "metadata": {
        "id": "oEE3b_cZByKn"
      }
    },
    {
      "cell_type": "markdown",
      "source": [
        "There are four main types of data:\n",
        "\n",
        "1.Nominal Data: Nominal data is categorical data where variables are named and do not have an inherent order. This type of data cannot be ranked or sorted meaningfully. Examples of nominal data include gender (male, female), eye color (blue, brown, green), and car brand (Toyota, Honda, Ford).\n",
        "\n",
        "2.Ordinal Data: Ordinal data is categorical data that can be ranked or ordered. The distance between each value may not be equal, but there is a clear order to the values. Examples of ordinal data include education level (elementary, high school, college), income level (low, medium, high), and customer satisfaction rating (poor, fair, good, excellent).\n",
        "\n",
        "3.Interval Data: Interval data is numerical data where the distance between values is consistent, but there is no true zero point. This means that ratios are not meaningful. Examples of interval data include temperature measured in Celsius or Fahrenheit, IQ scores, and time of day.\n",
        "\n",
        "4.Ratio Data: Ratio data is numerical data where there is a true zero point, making ratios meaningful. This means that the distance between values is consistent and can be measured. Examples of ratio data include weight, height, and length.\n"
      ],
      "metadata": {
        "id": "rxvVdSXDCn8T"
      }
    },
    {
      "cell_type": "code",
      "source": [],
      "metadata": {
        "id": "XC2FtcxxBzAy"
      },
      "execution_count": null,
      "outputs": []
    },
    {
      "cell_type": "markdown",
      "source": [
        "Q4."
      ],
      "metadata": {
        "id": "86Slhz70Dep2"
      }
    },
    {
      "cell_type": "markdown",
      "source": [
        "(i) Grading in exam: A+, A, B+, B, C+, C, D, E\n",
        "\n",
        "\n",
        "Ans: It is a Qualitative data (ordinal)"
      ],
      "metadata": {
        "id": "vvfdYBpHDhNg"
      }
    },
    {
      "cell_type": "markdown",
      "source": [
        "(ii) Colour of mangoes: yellow, green, orange, red\n",
        "\n",
        "Ans: It is a  Qualitative data (nominal)"
      ],
      "metadata": {
        "id": "T2Mv6WoFEJZt"
      }
    },
    {
      "cell_type": "markdown",
      "source": [
        "(iii) Height data of a class: [178.9, 179, 179.5, 176, 177.2, 178.3, 175.8,...]\n",
        "\n",
        "Ans: It is a Quantitative data (continuous, interval)"
      ],
      "metadata": {
        "id": "qijortIYE1q4"
      }
    },
    {
      "cell_type": "markdown",
      "source": [
        "(iv) Number of mangoes exported by a farm: [500, 600, 478, 672, ...]\n",
        "\n",
        "Ans: It is a Quantitative data (discrete, ratio)"
      ],
      "metadata": {
        "id": "1NoayoGtE1jf"
      }
    },
    {
      "cell_type": "code",
      "source": [],
      "metadata": {
        "id": "jlSI0md0Dfnw"
      },
      "execution_count": null,
      "outputs": []
    },
    {
      "cell_type": "markdown",
      "source": [
        "Q5. Explain the concept of levels of measurement and give an example of a variable for each level."
      ],
      "metadata": {
        "id": "v15IQJERFkzV"
      }
    },
    {
      "cell_type": "markdown",
      "source": [
        "Levels of measurement refer to the ways in which variables are measured or observed. There are four commonly recognized levels of measurement:\n",
        "\n",
        "1.Nominal: This is the lowest level of measurement, and variables are named or categorized without any order or ranking. Examples include gender (male or female), eye color (blue, brown, or green), and country of origin.\n",
        "\n",
        "2.Ordinal: Variables at this level of measurement can be ranked or ordered, but the differences between the values are not necessarily equal. Examples include education level (elementary, high school, or college), customer satisfaction rating (poor, fair, good, or excellent), and Likert scales.\n",
        "\n",
        "3.Interval: Variables at this level of measurement have equal differences between values, but there is no true zero point. Examples include temperature measured in Celsius or Fahrenheit, IQ scores, and time of day.\n",
        "\n",
        "4.Ratio: This is the highest level of measurement, and variables have a true zero point. Ratios between values are meaningful at this level. Examples include weight, height, and age."
      ],
      "metadata": {
        "id": "AF6lnAKWFrPG"
      }
    },
    {
      "cell_type": "code",
      "source": [],
      "metadata": {
        "id": "c8dZHhBiFqYB"
      },
      "execution_count": null,
      "outputs": []
    },
    {
      "cell_type": "markdown",
      "source": [
        "Q6.Why is it important to understand the level of measurement when analyzing data? Provide an\n",
        "example to illustrate your answer."
      ],
      "metadata": {
        "id": "oeNAr8gWGmXn"
      }
    },
    {
      "cell_type": "markdown",
      "source": [
        "It is important to understand the level of measurement of a variable when analyzing data because it determines the type of statistical analysis that can be performed on the data. Different statistical tests are appropriate for different levels of measurement, and using the wrong test can lead to inaccurate or misleading results.\n",
        "\n",
        "example:- when analyzing survey data. If a survey asks respondents to rate their level of agreement with a statement using a 5-point Likert scale, the data is at the ordinal level of measurement. It would be inappropriate to calculate a mean score for the data, as the differences between the categories may not be equal. Instead, nonparametric tests such as the chi-square test or Mann-Whitney U test would be more appropriate for analyzing this type of data."
      ],
      "metadata": {
        "id": "OiBKEN9jGpbP"
      }
    },
    {
      "cell_type": "code",
      "source": [],
      "metadata": {
        "id": "50vwK4DBGn13"
      },
      "execution_count": null,
      "outputs": []
    },
    {
      "cell_type": "markdown",
      "source": [
        "Q7. How nominal data type is different from ordinal data type."
      ],
      "metadata": {
        "id": "8l2Ir3ecHcUn"
      }
    },
    {
      "cell_type": "markdown",
      "source": [
        "Nominal and ordinal data types are both types of categorical data, but they differ in the level of measurement and the type of information they provide.\n",
        "\n",
        "Nominal data is the lowest level of measurement, where data is categorized or named without any order or ranking. Nominal data simply identifies or classifies something, but does not provide any quantitative information or relationship between categories. Examples of nominal data include gender (male or female), blood type (A, B, AB, or O), and country of origin.\n",
        "\n",
        "Ordinal data, on the other hand, is a higher level of measurement where data can be ranked or ordered, but the differences between values are not necessarily equal. This means that ordinal data provides information on the order or ranking of categories, but does not indicate the magnitude of difference between them. Examples of ordinal data include grades (A, B, C, etc.), customer satisfaction ratings (poor, fair, good, excellent), and Likert scales."
      ],
      "metadata": {
        "id": "OMbc2NfKHf9o"
      }
    },
    {
      "cell_type": "code",
      "source": [],
      "metadata": {
        "id": "GD-McpfIHeuf"
      },
      "execution_count": null,
      "outputs": []
    },
    {
      "cell_type": "markdown",
      "source": [
        "Q8. Which type of plot can be used to display data in terms of range?"
      ],
      "metadata": {
        "id": "W4NVCVYeIKyB"
      }
    },
    {
      "cell_type": "markdown",
      "source": [
        "A box plot, also known as a box-and-whisker plot, can be used to display data in terms of range. A box plot provides a visual representation of the distribution of a dataset by showing the median, quartiles, and range of the data.\n",
        "\n",
        "The box in a box plot represents the middle 50% of the data, with the bottom edge of the box at the first quartile (Q1) and the top edge of the box at the third quartile (Q3). The median is shown as a horizontal line inside the box. The whiskers extend from the top and bottom edges of the box to the minimum and maximum values of the data that are within 1.5 times the interquartile range (IQR) from the edges of the box. Any data points that fall outside of the whiskers are considered outliers and are plotted as individual points.\n",
        "\n",
        "By using a box plot, the range of the data can be easily identified, as it is represented by the length of the whiskers. Additionally, the box plot can provide information on the symmetry and skewness of the data, the presence of outliers, and the position and spread of the middle 50% of the data.\n",
        "\n",
        "\n",
        "\n"
      ],
      "metadata": {
        "id": "BRP9ddxuIMc7"
      }
    },
    {
      "cell_type": "code",
      "source": [],
      "metadata": {
        "id": "9agjCPw_ILmq"
      },
      "execution_count": null,
      "outputs": []
    },
    {
      "cell_type": "markdown",
      "source": [
        "Q9. Describe the difference between descriptive and inferential statistics. Give an example of each\n",
        "type of statistics and explain how they are used."
      ],
      "metadata": {
        "id": "U9NI9rsdIaf-"
      }
    },
    {
      "cell_type": "markdown",
      "source": [
        "A box plot, also known as a box-and-whisker plot, can be used to display data in terms of range. A box plot provides a visual representation of the distribution of a dataset by showing the median, quartiles, and range of the data.\n",
        "\n",
        "The box in a box plot represents the middle 50% of the data, with the bottom edge of the box at the first quartile (Q1) and the top edge of the box at the third quartile (Q3). The median is shown as a horizontal line inside the box. The whiskers extend from the top and bottom edges of the box to the minimum and maximum values of the data that are within 1.5 times the interquartile range (IQR) from the edges of the box. Any data points that fall outside of the whiskers are considered outliers and are plotted as individual points.\n",
        "\n",
        "By using a box plot, the range of the data can be easily identified, as it is represented by the length of the whiskers. Additionally, the box plot can provide information on the symmetry and skewness of the data, the presence of outliers, and the position and spread of the middle 50% of the data."
      ],
      "metadata": {
        "id": "pyZjMV1YIe-_"
      }
    },
    {
      "cell_type": "code",
      "source": [],
      "metadata": {
        "id": "g6E5k86YId7A"
      },
      "execution_count": null,
      "outputs": []
    },
    {
      "cell_type": "markdown",
      "source": [
        "Q10. What are some common measures of central tendency and variability used in statistics? Explain\n",
        "how each measure can be used to describe a dataset."
      ],
      "metadata": {
        "id": "OqA152tJIu9p"
      }
    },
    {
      "cell_type": "markdown",
      "source": [
        "Measures of central tendency and variability are commonly used in statistics to describe a dataset and provide insight into its characteristics. The following are some common measures of central tendency and variability:\n",
        "\n",
        "1.Mean: The mean is the arithmetic average of a set of numbers. It is calculated by adding up all the values in the dataset and dividing by the number of values. The mean is useful in describing the center of a dataset, and can be sensitive to outliers or extreme values.\n",
        "\n",
        "2.Median: The median is the middle value in a dataset, with an equal number of values above and below it. It is useful in describing the center of a dataset, and is less sensitive to outliers than the mean.\n",
        "\n",
        "3.Mode: The mode is the value that occurs most frequently in a dataset. It is useful in describing the most common value in a dataset, and can be used with both numerical and categorical data.\n",
        "\n",
        "4.Range: The range is the difference between the maximum and minimum values in a dataset. It is useful in describing the spread or variability of a dataset, but can be influenced by outliers.\n",
        "\n",
        "5.Variance: The variance is the average of the squared differences from the mean in a dataset. It is useful in describing the spread or variability of a dataset, and provides a measure of how much the values in a dataset vary from the mean.\n",
        "\n",
        "6.Standard Deviation: The standard deviation is the square root of the variance in a dataset. It is useful in describing the spread or variability of a dataset, and provides a measure of how much the values in a dataset deviate from the mean.\n",
        "\n",
        "Each of these measures can be used to describe different aspects of a dataset. The mean, median, and mode can be used to describe the center of a dataset, while the range, variance, and standard deviation can be used to describe the spread or variability of a dataset. Understanding these measures can help researchers and analysts gain insight into the characteristics of a dataset, make comparisons between different datasets, and make informed decisions based on the data."
      ],
      "metadata": {
        "id": "jVjU1Zc1KWbb"
      }
    },
    {
      "cell_type": "code",
      "source": [],
      "metadata": {
        "id": "OhPToJ_NI10f"
      },
      "execution_count": null,
      "outputs": []
    }
  ]
}